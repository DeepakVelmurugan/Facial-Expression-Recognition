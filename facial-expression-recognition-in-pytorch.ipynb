{
 "cells": [
  {
   "cell_type": "markdown",
   "metadata": {
    "papermill": {
     "duration": 0.009101,
     "end_time": "2021-03-08T03:08:42.119199",
     "exception": false,
     "start_time": "2021-03-08T03:08:42.110098",
     "status": "completed"
    },
    "tags": []
   },
   "source": [
    "## Import the necessary header files required\n",
    "\n",
    "Check whether you have GPU availablity since training in CPU is very slow\n",
    "\n",
    "Prerequisites: \n",
    "* Knows intermediate python\n",
    "* Classification problems in machine learning\n",
    "* How **Forward prop** and **Back prop** works in neural nets\n",
    "* Basics of gradient descent (also nice to know kinds of parameter updates)"
   ]
  },
  {
   "cell_type": "code",
   "execution_count": 1,
   "metadata": {
    "execution": {
     "iopub.execute_input": "2021-03-08T03:08:42.142429Z",
     "iopub.status.busy": "2021-03-08T03:08:42.141837Z",
     "iopub.status.idle": "2021-03-08T03:08:44.005186Z",
     "shell.execute_reply": "2021-03-08T03:08:44.006145Z"
    },
    "papermill": {
     "duration": 1.879168,
     "end_time": "2021-03-08T03:08:44.006600",
     "exception": false,
     "start_time": "2021-03-08T03:08:42.127432",
     "status": "completed"
    },
    "tags": []
   },
   "outputs": [
    {
     "name": "stdout",
     "output_type": "stream",
     "text": [
      "Using device:  cuda\n"
     ]
    }
   ],
   "source": [
    "import torch\n",
    "import torch.nn as nn                   #for sequence api in torch\n",
    "from torch.utils.data import DataLoader #for loading images\n",
    "import numpy as np                      #just in case if you need numpy arrays\n",
    "import torchvision.transforms as T      #Used for data preprocessing and converting images to tensors\n",
    "import torchvision.datasets as dset\n",
    "import torch.optim as optim             #For using the desired parameter update\n",
    "import torch.nn.functional as F\n",
    "\n",
    "USE_GPU = True\n",
    "\n",
    "if USE_GPU and torch.cuda.is_available():\n",
    "  device = torch.device('cuda')\n",
    "else:\n",
    "  device = torch.device('cpu')\n",
    "\n",
    "dtype = torch.float32\n",
    "\n",
    "print(\"Using device: \",device)"
   ]
  },
  {
   "cell_type": "markdown",
   "metadata": {
    "papermill": {
     "duration": 0.008225,
     "end_time": "2021-03-08T03:08:44.024742",
     "exception": false,
     "start_time": "2021-03-08T03:08:44.016517",
     "status": "completed"
    },
    "tags": []
   },
   "source": [
    "## Data loading and preprocessing\n",
    "\n",
    "Here there isn't much of data preprocessing going on, The RandomHorizontalFlip flips images randomly so our model is more robust\n",
    "\n",
    "The DataLoader part in Pytorch takes care of target labels(y, which in our case is the name of the folder) and features(x)"
   ]
  },
  {
   "cell_type": "code",
   "execution_count": 2,
   "metadata": {
    "execution": {
     "iopub.execute_input": "2021-03-08T03:08:44.047043Z",
     "iopub.status.busy": "2021-03-08T03:08:44.046477Z",
     "iopub.status.idle": "2021-03-08T03:09:35.844045Z",
     "shell.execute_reply": "2021-03-08T03:09:35.843533Z"
    },
    "papermill": {
     "duration": 51.810913,
     "end_time": "2021-03-08T03:09:35.844193",
     "exception": false,
     "start_time": "2021-03-08T03:08:44.033280",
     "status": "completed"
    },
    "tags": []
   },
   "outputs": [],
   "source": [
    "transform = T.Compose([T.RandomHorizontalFlip(),T.ToTensor()])\n",
    "#Training \n",
    "train_data = dset.ImageFolder(\"../input/face-expression-recognition-dataset/images/train\",transform=transform)\n",
    "loaded_train = DataLoader(train_data,batch_size=64,shuffle=True)\n",
    "#Validation\n",
    "validation_data = dset.ImageFolder(\"../input/face-expression-recognition-dataset/images/validation\",transform=transform)\n",
    "loaded_validation = DataLoader(validation_data,batch_size=64,shuffle=False)\n",
    "\n",
    "loss_history = []\n",
    "validation_acc = []\n",
    "training_acc = []"
   ]
  },
  {
   "cell_type": "markdown",
   "metadata": {
    "papermill": {
     "duration": 0.008456,
     "end_time": "2021-03-08T03:09:35.861846",
     "exception": false,
     "start_time": "2021-03-08T03:09:35.853390",
     "status": "completed"
    },
    "tags": []
   },
   "source": [
    "## Visualizing the image\n",
    "\n",
    "As a usual gut check it's recommended to see your image to be sure that image appears properly from DataLoader\n",
    "\n",
    "Here I've implemented a random way of selecting a expression from the list of images"
   ]
  },
  {
   "cell_type": "code",
   "execution_count": 3,
   "metadata": {
    "execution": {
     "iopub.execute_input": "2021-03-08T03:09:35.889605Z",
     "iopub.status.busy": "2021-03-08T03:09:35.888940Z",
     "iopub.status.idle": "2021-03-08T03:09:36.601311Z",
     "shell.execute_reply": "2021-03-08T03:09:36.601751Z"
    },
    "papermill": {
     "duration": 0.731426,
     "end_time": "2021-03-08T03:09:36.601904",
     "exception": false,
     "start_time": "2021-03-08T03:09:35.870478",
     "status": "completed"
    },
    "tags": []
   },
   "outputs": [
    {
     "name": "stdout",
     "output_type": "stream",
     "text": [
      "Target label:  angry\n"
     ]
    },
    {
     "data": {
      "text/plain": [
       "<matplotlib.image.AxesImage at 0x7f5d9ef70d10>"
      ]
     },
     "execution_count": 3,
     "metadata": {},
     "output_type": "execute_result"
    },
    {
     "data": {
      "image/png": "[encoded data removed]",
      "text/plain": [
       "<Figure size 432x288 with 1 Axes>"
      ]
     },
     "metadata": {
      "needs_background": "light"
     },
     "output_type": "display_data"
    }
   ],
   "source": [
    "%matplotlib inline              \n",
    "import matplotlib.pyplot as plt\n",
    "import random                   #For selecting random element from list\n",
    "\n",
    "dataiter = iter(loaded_train)   #The iter() function in python represents the iterator similar to c++ iterators\n",
    "images, labels = dataiter.next() #The next() method retrieves the object \n",
    "expression = {0:\"angry\",1:\"disgust\",2:\"fear\",3:\"happy\",4:\"neutral\",5:\"sad\",6:\"surprise\"} #Create a dictionary for mapping accordingly\n",
    "random_idx = random.sample(range(0,64),1)[0]     #Selects a random single number from 0-64\n",
    "print(\"Target label: \",expression[int(labels[random_idx].numpy())])  #Converting it to numpy from tensor to fetch the label\n",
    "plt.imshow(np.transpose(images[random_idx].numpy(), (1, 2, 0)))   "
   ]
  },
  {
   "cell_type": "markdown",
   "metadata": {
    "papermill": {
     "duration": 0.009592,
     "end_time": "2021-03-08T03:09:36.621524",
     "exception": false,
     "start_time": "2021-03-08T03:09:36.611932",
     "status": "completed"
    },
    "tags": []
   },
   "source": [
    "## Creating a method for predicting validation accuracy\n",
    "\n",
    "*In Pytorch, we don't have any api like model.fit() in tensorflow, so we have to create our own method.*\n",
    "\n",
    "* The function calculates the number of correct samples and divides by the number of total samples which ultimately gives us the accuracy.\n",
    "* Notice torch.no_grad() part, this is very important as we don't want to back-propagate while predicting."
   ]
  },
  {
   "cell_type": "code",
   "execution_count": 4,
   "metadata": {
    "execution": {
     "iopub.execute_input": "2021-03-08T03:09:36.647530Z",
     "iopub.status.busy": "2021-03-08T03:09:36.646877Z",
     "iopub.status.idle": "2021-03-08T03:09:36.649738Z",
     "shell.execute_reply": "2021-03-08T03:09:36.649186Z"
    },
    "papermill": {
     "duration": 0.018374,
     "end_time": "2021-03-08T03:09:36.649848",
     "exception": false,
     "start_time": "2021-03-08T03:09:36.631474",
     "status": "completed"
    },
    "tags": []
   },
   "outputs": [],
   "source": [
    "def check_accuracy_part(loader, model):\n",
    "    print('Checking accuracy on validation set')\n",
    "    num_correct = 0\n",
    "    num_samples = 0\n",
    "    model.eval()  # set model to evaluation mode\n",
    "    with torch.no_grad():\n",
    "        for x, y in loader:\n",
    "            x = x.to(device=device, dtype=dtype)  # move to device, e.g. GPU\n",
    "            y = y.to(device=device, dtype=torch.long)\n",
    "            scores = model(x)\n",
    "            _, preds = scores.max(1)\n",
    "            num_correct += (preds == y).sum()\n",
    "            num_samples += preds.size(0)\n",
    "        acc = float(num_correct) / num_samples\n",
    "        print('Got %d / %d correct (%.2f)' % (num_correct, num_samples, 100 * acc))"
   ]
  },
  {
   "cell_type": "markdown",
   "metadata": {
    "papermill": {
     "duration": 0.009652,
     "end_time": "2021-03-08T03:09:36.669241",
     "exception": false,
     "start_time": "2021-03-08T03:09:36.659589",
     "status": "completed"
    },
    "tags": []
   },
   "source": [
    "## Training the model\n",
    "\n",
    "* This method trains our model and it's almost similar to the accuracy part.\n",
    "* Here we have backward() - takes care of back propagation and the optimizer - takes care of parameter update"
   ]
  },
  {
   "cell_type": "code",
   "execution_count": 5,
   "metadata": {
    "execution": {
     "iopub.execute_input": "2021-03-08T03:09:36.695865Z",
     "iopub.status.busy": "2021-03-08T03:09:36.695188Z",
     "iopub.status.idle": "2021-03-08T03:09:36.697548Z",
     "shell.execute_reply": "2021-03-08T03:09:36.698045Z"
    },
    "papermill": {
     "duration": 0.019131,
     "end_time": "2021-03-08T03:09:36.698163",
     "exception": false,
     "start_time": "2021-03-08T03:09:36.679032",
     "status": "completed"
    },
    "tags": []
   },
   "outputs": [],
   "source": [
    "def train_part(model, optimizer, epochs=1):\n",
    "    \"\"\"\n",
    "    Train a model using the PyTorch Module API.\n",
    "    \n",
    "    Inputs:\n",
    "    - model: A PyTorch Module giving the model to train.\n",
    "    - optimizer: An Optimizer object we will use to train the model\n",
    "    - epochs: (Optional) A Python integer giving the number of epochs to train for\n",
    "    \n",
    "    Returns: Nothing, but prints model accuracies during training.\n",
    "    \"\"\"\n",
    "    model = model.to(device=device)  # move the model parameters to CPU/GPU\n",
    "    for e in range(epochs):\n",
    "        print(\"epoch: \",e+1)\n",
    "        for t, (x, y) in enumerate(loaded_train):\n",
    "            model.train()  # put model to training mode\n",
    "            x = x.to(device=device, dtype=dtype)  # move to device, e.g. GPU\n",
    "            y = y.to(device=device, dtype=torch.long)\n",
    "\n",
    "            scores = model(x)\n",
    "            loss = F.cross_entropy(scores, y)\n",
    "\n",
    "            # Zero out all of the gradients for the variables which the optimizer\n",
    "            # will update.\n",
    "            optimizer.zero_grad()\n",
    "\n",
    "            # This is the backwards pass: compute the gradient of the loss with\n",
    "            # respect to each  parameter of the model.\n",
    "            loss.backward()\n",
    "\n",
    "            # Actually update the parameters of the model using the gradients\n",
    "            # computed by the backwards pass.\n",
    "            optimizer.step()\n",
    "\n",
    "            if t % 100 == 0:\n",
    "                print('Iteration %d, loss = %.4f' % (t, loss.item()))\n",
    "                check_accuracy_part(loaded_validation, model)\n",
    "                print()"
   ]
  },
  {
   "cell_type": "markdown",
   "metadata": {
    "papermill": {
     "duration": 0.010652,
     "end_time": "2021-03-08T03:09:36.718596",
     "exception": false,
     "start_time": "2021-03-08T03:09:36.707944",
     "status": "completed"
    },
    "tags": []
   },
   "source": [
    "## Building our neural network\n",
    "\n",
    "This is completely upto your choice you can prefer any kind of structure that you want.\n",
    "\n",
    "*In torch make sure your conv and pool dimensions are proper* or else the matrices/tensors can't undergo proper matrix multipilcation.\n",
    "\n",
    "***Remember to flatten for shifting from convolutional layers to fully connected layers***\n",
    "\n",
    "The ReduceLROnPlateau reduces the learning rate whenever our network is stuck at a local minima.\n",
    "\n",
    "### Important formulas for calculating dimensions\n",
    "\n",
    "* Output of conv layer would have dimension -> ((H - F + 2P)//s) + 1 *we can't have decimals here*\n",
    "\n",
    "  *where H - height of input(in our case image) , F - kernel_size(filter size) , P - padding & s - stride (vice versa for width)* \n",
    "  \n",
    "  \n",
    "* If you want the input dimensions (height & width) to remain same then you can use this -> (F - 1)/2\n",
    "\n",
    "  *where F - kernel_size(filter size)*"
   ]
  },
  {
   "cell_type": "code",
   "execution_count": 6,
   "metadata": {
    "execution": {
     "iopub.execute_input": "2021-03-08T03:09:36.752157Z",
     "iopub.status.busy": "2021-03-08T03:09:36.751615Z",
     "iopub.status.idle": "2021-03-08T03:25:32.698293Z",
     "shell.execute_reply": "2021-03-08T03:25:32.697657Z"
    },
    "papermill": {
     "duration": 955.969981,
     "end_time": "2021-03-08T03:25:32.698431",
     "exception": false,
     "start_time": "2021-03-08T03:09:36.728450",
     "status": "completed"
    },
    "tags": []
   },
   "outputs": [
    {
     "name": "stdout",
     "output_type": "stream",
     "text": [
      "epoch:  1\n",
      "Iteration 0, loss = 2.0171\n",
      "Checking accuracy on validation set\n",
      "Got 1023 / 7066 correct (14.48)\n",
      "\n",
      "Iteration 100, loss = 1.6580\n",
      "Checking accuracy on validation set\n",
      "Got 2327 / 7066 correct (32.93)\n",
      "\n",
      "Iteration 200, loss = 1.5900\n",
      "Checking accuracy on validation set\n",
      "Got 2927 / 7066 correct (41.42)\n",
      "\n",
      "Iteration 300, loss = 1.5431\n",
      "Checking accuracy on validation set\n",
      "Got 2983 / 7066 correct (42.22)\n",
      "\n",
      "Iteration 400, loss = 1.2747\n",
      "Checking accuracy on validation set\n",
      "Got 3313 / 7066 correct (46.89)\n",
      "\n",
      "epoch:  2\n",
      "Iteration 0, loss = 1.1730\n",
      "Checking accuracy on validation set\n",
      "Got 3424 / 7066 correct (48.46)\n",
      "\n",
      "Iteration 100, loss = 1.3153\n",
      "Checking accuracy on validation set\n",
      "Got 2940 / 7066 correct (41.61)\n",
      "\n",
      "Iteration 200, loss = 1.1501\n",
      "Checking accuracy on validation set\n",
      "Got 3501 / 7066 correct (49.55)\n",
      "\n",
      "Iteration 300, loss = 1.1677\n",
      "Checking accuracy on validation set\n",
      "Got 3342 / 7066 correct (47.30)\n",
      "\n",
      "Iteration 400, loss = 1.1153\n",
      "Checking accuracy on validation set\n",
      "Got 3701 / 7066 correct (52.38)\n",
      "\n",
      "epoch:  3\n",
      "Iteration 0, loss = 1.2447\n",
      "Checking accuracy on validation set\n",
      "Got 3602 / 7066 correct (50.98)\n",
      "\n",
      "Iteration 100, loss = 1.1961\n",
      "Checking accuracy on validation set\n",
      "Got 3648 / 7066 correct (51.63)\n",
      "\n",
      "Iteration 200, loss = 1.1792\n",
      "Checking accuracy on validation set\n",
      "Got 3853 / 7066 correct (54.53)\n",
      "\n",
      "Iteration 300, loss = 1.1358\n",
      "Checking accuracy on validation set\n",
      "Got 3765 / 7066 correct (53.28)\n",
      "\n",
      "Iteration 400, loss = 1.2024\n",
      "Checking accuracy on validation set\n",
      "Got 3742 / 7066 correct (52.96)\n",
      "\n",
      "epoch:  4\n",
      "Iteration 0, loss = 1.3318\n",
      "Checking accuracy on validation set\n",
      "Got 3543 / 7066 correct (50.14)\n",
      "\n",
      "Iteration 100, loss = 1.1428\n",
      "Checking accuracy on validation set\n",
      "Got 3602 / 7066 correct (50.98)\n",
      "\n",
      "Iteration 200, loss = 1.3817\n",
      "Checking accuracy on validation set\n",
      "Got 3845 / 7066 correct (54.42)\n",
      "\n",
      "Iteration 300, loss = 1.0469\n",
      "Checking accuracy on validation set\n",
      "Got 3932 / 7066 correct (55.65)\n",
      "\n",
      "Iteration 400, loss = 1.1779\n",
      "Checking accuracy on validation set\n",
      "Got 3870 / 7066 correct (54.77)\n",
      "\n",
      "epoch:  5\n",
      "Iteration 0, loss = 0.9928\n",
      "Checking accuracy on validation set\n",
      "Got 3408 / 7066 correct (48.23)\n",
      "\n",
      "Iteration 100, loss = 1.2736\n",
      "Checking accuracy on validation set\n",
      "Got 3897 / 7066 correct (55.15)\n",
      "\n",
      "Iteration 200, loss = 0.9956\n",
      "Checking accuracy on validation set\n",
      "Got 4081 / 7066 correct (57.76)\n",
      "\n",
      "Iteration 300, loss = 1.1211\n",
      "Checking accuracy on validation set\n",
      "Got 4067 / 7066 correct (57.56)\n",
      "\n",
      "Iteration 400, loss = 0.9794\n",
      "Checking accuracy on validation set\n",
      "Got 4072 / 7066 correct (57.63)\n",
      "\n",
      "epoch:  6\n",
      "Iteration 0, loss = 1.1445\n",
      "Checking accuracy on validation set\n",
      "Got 4040 / 7066 correct (57.18)\n",
      "\n",
      "Iteration 100, loss = 1.0438\n",
      "Checking accuracy on validation set\n",
      "Got 4138 / 7066 correct (58.56)\n",
      "\n",
      "Iteration 200, loss = 0.9327\n",
      "Checking accuracy on validation set\n",
      "Got 3762 / 7066 correct (53.24)\n",
      "\n",
      "Iteration 300, loss = 1.0800\n",
      "Checking accuracy on validation set\n",
      "Got 4021 / 7066 correct (56.91)\n",
      "\n",
      "Iteration 400, loss = 0.9081\n",
      "Checking accuracy on validation set\n",
      "Got 4173 / 7066 correct (59.06)\n",
      "\n",
      "epoch:  7\n",
      "Iteration 0, loss = 1.0448\n",
      "Checking accuracy on validation set\n",
      "Got 3827 / 7066 correct (54.16)\n",
      "\n",
      "Iteration 100, loss = 1.0524\n",
      "Checking accuracy on validation set\n",
      "Got 3930 / 7066 correct (55.62)\n",
      "\n",
      "Iteration 200, loss = 1.1078\n",
      "Checking accuracy on validation set\n",
      "Got 4062 / 7066 correct (57.49)\n",
      "\n",
      "Iteration 300, loss = 0.7063\n",
      "Checking accuracy on validation set\n",
      "Got 4065 / 7066 correct (57.53)\n",
      "\n",
      "Iteration 400, loss = 1.1847\n",
      "Checking accuracy on validation set\n",
      "Got 4313 / 7066 correct (61.04)\n",
      "\n",
      "epoch:  8\n",
      "Iteration 0, loss = 0.7964\n",
      "Checking accuracy on validation set\n",
      "Got 4131 / 7066 correct (58.46)\n",
      "\n",
      "Iteration 100, loss = 0.8973\n",
      "Checking accuracy on validation set\n",
      "Got 3930 / 7066 correct (55.62)\n",
      "\n",
      "Iteration 200, loss = 1.0672\n",
      "Checking accuracy on validation set\n",
      "Got 4183 / 7066 correct (59.20)\n",
      "\n",
      "Iteration 300, loss = 0.8824\n",
      "Checking accuracy on validation set\n",
      "Got 4017 / 7066 correct (56.85)\n",
      "\n",
      "Iteration 400, loss = 0.9957\n",
      "Checking accuracy on validation set\n",
      "Got 3850 / 7066 correct (54.49)\n",
      "\n",
      "epoch:  9\n",
      "Iteration 0, loss = 0.8492\n",
      "Checking accuracy on validation set\n",
      "Got 4096 / 7066 correct (57.97)\n",
      "\n",
      "Iteration 100, loss = 0.9831\n",
      "Checking accuracy on validation set\n",
      "Got 3983 / 7066 correct (56.37)\n",
      "\n",
      "Iteration 200, loss = 0.8851\n",
      "Checking accuracy on validation set\n",
      "Got 4113 / 7066 correct (58.21)\n",
      "\n",
      "Iteration 300, loss = 0.7420\n",
      "Checking accuracy on validation set\n",
      "Got 4038 / 7066 correct (57.15)\n",
      "\n",
      "Iteration 400, loss = 0.9051\n",
      "Checking accuracy on validation set\n",
      "Got 4169 / 7066 correct (59.00)\n",
      "\n",
      "epoch:  10\n",
      "Iteration 0, loss = 0.6992\n",
      "Checking accuracy on validation set\n",
      "Got 4232 / 7066 correct (59.89)\n",
      "\n",
      "Iteration 100, loss = 0.8433\n",
      "Checking accuracy on validation set\n",
      "Got 4312 / 7066 correct (61.02)\n",
      "\n",
      "Iteration 200, loss = 0.7287\n",
      "Checking accuracy on validation set\n",
      "Got 4235 / 7066 correct (59.93)\n",
      "\n",
      "Iteration 300, loss = 0.9257\n",
      "Checking accuracy on validation set\n",
      "Got 4208 / 7066 correct (59.55)\n",
      "\n",
      "Iteration 400, loss = 0.7855\n",
      "Checking accuracy on validation set\n",
      "Got 4301 / 7066 correct (60.87)\n",
      "\n"
     ]
    }
   ],
   "source": [
    "model = None\n",
    "optimizer = None\n",
    "\n",
    "#First architecture #3,32,32\n",
    "conv1 = nn.Sequential(\n",
    "    nn.Conv2d(3,512,kernel_size=(3,3),bias=True,padding=1), #512,48,48\n",
    "    nn.BatchNorm2d(512),\n",
    "    nn.ReLU(),\n",
    "    nn.MaxPool2d(kernel_size=(2,2))  #Sampling image to half  512,24,24\n",
    ")\n",
    "conv2 = nn.Sequential(\n",
    "    nn.Conv2d(512,128,kernel_size=(3,3),padding=1,bias=True), #128,24,24\n",
    "    nn.BatchNorm2d(128),\n",
    "    nn.ReLU(),\n",
    "    nn.MaxPool2d(kernel_size=(2,2))         #128,12,12\n",
    ")\n",
    "conv3 = nn.Sequential(\n",
    "    nn.Conv2d(128,64,kernel_size=(3,3),bias=True,padding=1), #64,12,12\n",
    "    nn.BatchNorm2d(64),\n",
    "    nn.ReLU(),\n",
    "    nn.MaxPool2d(kernel_size=(2,2))   #64,6,6\n",
    ")\n",
    "conv4 = nn.Sequential(\n",
    "    nn.Conv2d(64,256,kernel_size=(3,3),bias=True,padding=1), #64,6,6\n",
    "    nn.BatchNorm2d(256),\n",
    "    nn.ReLU(),\n",
    "    nn.MaxPool2d(kernel_size=(2,2))   #256,3,3\n",
    ")\n",
    "fc = nn.Sequential(\n",
    "    nn.Flatten(),\n",
    "    nn.Linear(256*3*3,7),\n",
    ")\n",
    "model = nn.Sequential(\n",
    "    conv1,\n",
    "    conv2,\n",
    "    conv3,\n",
    "    conv4,\n",
    "    fc\n",
    ")\n",
    "learning_rate=0.001\n",
    "optimizer = optim.Adam(model.parameters(),lr=learning_rate)\n",
    "train_part(model, optimizer, epochs=10)"
   ]
  },
  {
   "cell_type": "markdown",
   "metadata": {
    "papermill": {
     "duration": 0.035277,
     "end_time": "2021-03-08T03:25:32.770925",
     "exception": false,
     "start_time": "2021-03-08T03:25:32.735648",
     "status": "completed"
    },
    "tags": []
   },
   "source": [
    "## Best performance:"
   ]
  },
  {
   "cell_type": "code",
   "execution_count": 7,
   "metadata": {
    "execution": {
     "iopub.execute_input": "2021-03-08T03:25:32.847337Z",
     "iopub.status.busy": "2021-03-08T03:25:32.846698Z",
     "iopub.status.idle": "2021-03-08T03:25:40.973126Z",
     "shell.execute_reply": "2021-03-08T03:25:40.973693Z"
    },
    "papermill": {
     "duration": 8.167327,
     "end_time": "2021-03-08T03:25:40.973892",
     "exception": false,
     "start_time": "2021-03-08T03:25:32.806565",
     "status": "completed"
    },
    "tags": []
   },
   "outputs": [
    {
     "name": "stdout",
     "output_type": "stream",
     "text": [
      "Checking accuracy on validation set\n",
      "Got 4325 / 7066 correct (61.21)\n"
     ]
    }
   ],
   "source": [
    "#Best model\n",
    "best_model = model\n",
    "check_accuracy_part(loaded_validation,best_model)"
   ]
  },
  {
   "cell_type": "markdown",
   "metadata": {
    "papermill": {
     "duration": 0.035744,
     "end_time": "2021-03-08T03:25:41.046654",
     "exception": false,
     "start_time": "2021-03-08T03:25:41.010910",
     "status": "completed"
    },
    "tags": []
   },
   "source": [
    "## Testing our model with sample images:\n",
    "\n",
    "Here we'll import random photos from the internet and test how the model predicts"
   ]
  },
  {
   "cell_type": "code",
   "execution_count": 8,
   "metadata": {
    "execution": {
     "iopub.execute_input": "2021-03-08T03:25:41.128098Z",
     "iopub.status.busy": "2021-03-08T03:25:41.127581Z",
     "iopub.status.idle": "2021-03-08T03:25:41.284797Z",
     "shell.execute_reply": "2021-03-08T03:25:41.284307Z"
    },
    "papermill": {
     "duration": 0.201817,
     "end_time": "2021-03-08T03:25:41.284927",
     "exception": false,
     "start_time": "2021-03-08T03:25:41.083110",
     "status": "completed"
    },
    "tags": []
   },
   "outputs": [
    {
     "name": "stdout",
     "output_type": "stream",
     "text": [
      "Predicted label:  sad\n",
      "Correct label:  surprise\n"
     ]
    },
    {
     "data": {
      "text/plain": [
       "<matplotlib.image.AxesImage at 0x7f5d9f2b9dd0>"
      ]
     },
     "execution_count": 8,
     "metadata": {},
     "output_type": "execute_result"
    },
    {
     "data": {
      "image/png": "[encoded data removed]",
      "text/plain": [
       "<Figure size 432x288 with 1 Axes>"
      ]
     },
     "metadata": {
      "needs_background": "light"
     },
     "output_type": "display_data"
    }
   ],
   "source": [
    "def check_accuracy_test(x,y,model):\n",
    "  num_samples = 0\n",
    "  num_correct = 0\n",
    "  loss = None\n",
    "  model.eval()    #turning drop-out/batch norm layer from training to test mode \n",
    "  with torch.no_grad():\n",
    "    x = x.to(device=device,dtype=dtype)\n",
    "    y = y.to(device=device,dtype=torch.long)\n",
    "    scores = model(x)\n",
    "    _,preds = scores.max(1)\n",
    "    return preds\n",
    "\n",
    "expression = {0:\"angry\",1:\"fear\",2:\"happy\",3:\"sad\",4:\"surprise\"} #Create a dictionary for mapping accordingly\n",
    "\n",
    "transform = T.Compose([T.ToTensor()])\n",
    "test_data = dset.ImageFolder(\"../input/test-images/test\",transform=transform)\n",
    "loaded_test = DataLoader(test_data,batch_size=5,shuffle=False)\n",
    "\n",
    "dataiter = iter(loaded_test)   #The iter() function in python represents the iterator similar to c++ iterators\n",
    "images, labels = dataiter.next() #The next() method retrieves the object\n",
    "\n",
    "random_idx = random.sample(range(0,5),1)[0] \n",
    "\n",
    "image = torch.reshape(images[random_idx],(1,3,48,48))\n",
    "predicted_idx = check_accuracy_test(image,labels[random_idx],best_model)\n",
    "\n",
    "print(\"Predicted label: \",expression[predicted_idx.item()]) \n",
    "print(\"Correct label: \",expression[int(labels[random_idx].numpy())])  #Converting it to numpy from tensor to fetch the label\n",
    "image = torch.reshape(image,(3,48,48))\n",
    "plt.imshow(np.transpose(image.numpy(), (1, 2, 0)))  "
   ]
  },
  {
   "cell_type": "markdown",
   "metadata": {
    "papermill": {
     "duration": 0.03664,
     "end_time": "2021-03-08T03:25:41.359080",
     "exception": false,
     "start_time": "2021-03-08T03:25:41.322440",
     "status": "completed"
    },
    "tags": []
   },
   "source": [
    "### If you find this notebook informative please upvote"
   ]
  }
 ],
 "metadata": {
  "kernelspec": {
   "display_name": "Python 3",
   "language": "python",
   "name": "python3"
  },
  "language_info": {
   "codemirror_mode": {
    "name": "ipython",
    "version": 3
   },
   "file_extension": ".py",
   "mimetype": "text/x-python",
   "name": "python",
   "nbconvert_exporter": "python",
   "pygments_lexer": "ipython3",
   "version": "3.7.9"
  },
  "papermill": {
   "default_parameters": {},
   "duration": 1025.965056,
   "end_time": "2021-03-08T03:25:43.183427",
   "environment_variables": {},
   "exception": null,
   "input_path": "__notebook__.ipynb",
   "output_path": "__notebook__.ipynb",
   "parameters": {},
   "start_time": "2021-03-08T03:08:37.218371",
   "version": "2.2.2"
  }
 },
 "nbformat": 4,
 "nbformat_minor": 4
}

{
 "cells": [
  {
   "cell_type": "markdown",
   "metadata": {
    "papermill": {
     "duration": 0.008158,
     "end_time": "2021-03-08T08:57:02.774262",
     "exception": false,
     "start_time": "2021-03-08T08:57:02.766104",
     "status": "completed"
    },
    "tags": []
   },
   "source": [
    "## Import the necessary header files required\n",
    "\n",
    "Check whether you have GPU availablity since training in CPU is very slow\n",
    "\n",
    "Prerequisites: \n",
    "* Knows intermediate python\n",
    "* Classification problems in machine learning\n",
    "* How **Forward prop** and **Back prop** works in neural nets\n",
    "* Basics of gradient descent (also nice to know kinds of parameter updates)"
   ]
  },
  {
   "cell_type": "code",
   "execution_count": 1,
   "metadata": {
    "_cell_guid": "b1076dfc-b9ad-4769-8c92-a6c4dae69d19",
    "_uuid": "8f2839f25d086af736a60e9eeb907d3b93b6e0e5",
    "execution": {
     "iopub.execute_input": "2021-03-08T08:57:02.794206Z",
     "iopub.status.busy": "2021-03-08T08:57:02.793557Z",
     "iopub.status.idle": "2021-03-08T08:57:07.977198Z",
     "shell.execute_reply": "2021-03-08T08:57:07.976160Z"
    },
    "papermill": {
     "duration": 5.196149,
     "end_time": "2021-03-08T08:57:07.977399",
     "exception": false,
     "start_time": "2021-03-08T08:57:02.781250",
     "status": "completed"
    },
    "tags": []
   },
   "outputs": [],
   "source": [
    "import matplotlib.pyplot as plt\n",
    "import numpy as np\n",
    "import pandas as pd\n",
    "import seaborn as sns\n",
    "import os\n",
    "\n",
    "# Importing Deep Learning Libraries\n",
    "\n",
    "from keras.preprocessing.image import load_img, img_to_array\n",
    "from keras.preprocessing.image import ImageDataGenerator\n",
    "from keras.layers import Dense,Input,Dropout,GlobalAveragePooling2D,Flatten,Conv2D,BatchNormalization,Activation,MaxPooling2D\n",
    "from keras.models import Model,Sequential\n",
    "from keras.optimizers import Adam,SGD,RMSprop"
   ]
  },
  {
   "cell_type": "code",
   "execution_count": 2,
   "metadata": {
    "_cell_guid": "79c7e3d0-c299-4dcb-8224-4455121ee9b0",
    "_uuid": "d629ff2d2480ee46fbb7e2d37f6b5fab8052498a",
    "execution": {
     "iopub.execute_input": "2021-03-08T08:57:07.996512Z",
     "iopub.status.busy": "2021-03-08T08:57:07.995869Z",
     "iopub.status.idle": "2021-03-08T08:57:07.998826Z",
     "shell.execute_reply": "2021-03-08T08:57:07.998393Z"
    },
    "papermill": {
     "duration": 0.013974,
     "end_time": "2021-03-08T08:57:07.998938",
     "exception": false,
     "start_time": "2021-03-08T08:57:07.984964",
     "status": "completed"
    },
    "tags": []
   },
   "outputs": [],
   "source": [
    "picture_size = 48\n",
    "folder_path = \"../input/face-expression-recognition-dataset/images/\""
   ]
  },
  {
   "cell_type": "markdown",
   "metadata": {
    "papermill": {
     "duration": 0.006775,
     "end_time": "2021-03-08T08:57:08.012711",
     "exception": false,
     "start_time": "2021-03-08T08:57:08.005936",
     "status": "completed"
    },
    "tags": []
   },
   "source": [
    "## Data loading and preprocessing\n",
    "\n",
    "Here there isn't much of data preprocessing going on, The horizontal_flip flips images randomly so our model is more robust\n",
    "\n",
    "The flow_from_directory part in tensorflow takes care of target labels(y, which in our case is the name of the folder) and features(x)"
   ]
  },
  {
   "cell_type": "code",
   "execution_count": 3,
   "metadata": {
    "execution": {
     "iopub.execute_input": "2021-03-08T08:57:08.032007Z",
     "iopub.status.busy": "2021-03-08T08:57:08.031485Z",
     "iopub.status.idle": "2021-03-08T08:57:30.692923Z",
     "shell.execute_reply": "2021-03-08T08:57:30.692077Z"
    },
    "papermill": {
     "duration": 22.673377,
     "end_time": "2021-03-08T08:57:30.693055",
     "exception": false,
     "start_time": "2021-03-08T08:57:08.019678",
     "status": "completed"
    },
    "tags": []
   },
   "outputs": [
    {
     "name": "stdout",
     "output_type": "stream",
     "text": [
      "Found 28821 images belonging to 7 classes.\n",
      "Found 7066 images belonging to 7 classes.\n"
     ]
    }
   ],
   "source": [
    "batch_size  = 64\n",
    "\n",
    "datagen_train  = ImageDataGenerator()\n",
    "datagen_val = ImageDataGenerator()\n",
    "\n",
    "train_set = datagen_train.flow_from_directory(folder_path+\"train\",\n",
    "                                              target_size = (picture_size,picture_size),\n",
    "                                              color_mode = \"grayscale\",\n",
    "                                              batch_size=batch_size,\n",
    "                                              class_mode='categorical',\n",
    "                                              shuffle=True)\n",
    "\n",
    "\n",
    "test_set = datagen_val.flow_from_directory(folder_path+\"validation\",\n",
    "                                              target_size = (picture_size,picture_size),\n",
    "                                              color_mode = \"grayscale\",\n",
    "                                              batch_size=batch_size,\n",
    "                                              class_mode='categorical',\n",
    "                                              shuffle=False)"
   ]
  },
  {
   "cell_type": "markdown",
   "metadata": {
    "papermill": {
     "duration": 0.007629,
     "end_time": "2021-03-08T08:57:30.708772",
     "exception": false,
     "start_time": "2021-03-08T08:57:30.701143",
     "status": "completed"
    },
    "tags": []
   },
   "source": [
    "## Building our neural network\n",
    "\n",
    "This is completely upto your choice you can prefer any kind of structure that you want.\n",
    "\n",
    "*In torch make sure your conv and pool dimensions are proper* or else the matrices/tensors can't undergo proper matrix multipilcation.\n",
    "\n",
    "***Remember to flatten for shifting from convolutional layers to fully connected layers***\n",
    "\n",
    "The ReduceLROnPlateau reduces the learning rate whenever our network is stuck at a local minima.\n",
    "\n",
    "### Important formulas for calculating dimensions\n",
    "\n",
    "* Output of conv layer would have dimension -> ((H - F + 2P)//s) + 1 *we can't have decimals here*\n",
    "\n",
    "  *where H - height of input(in our case image) , F - kernel_size(filter size) , P - padding & s - stride (vice versa for width)* \n",
    "  \n",
    "  \n",
    "* If you want the input dimensions (height & width) to remain same then you can use this -> (F - 1)/2\n",
    "\n",
    "  *where F - kernel_size(filter size)*"
   ]
  },
  {
   "cell_type": "code",
   "execution_count": 4,
   "metadata": {
    "execution": {
     "iopub.execute_input": "2021-03-08T08:57:30.734550Z",
     "iopub.status.busy": "2021-03-08T08:57:30.734026Z",
     "iopub.status.idle": "2021-03-08T08:57:33.648012Z",
     "shell.execute_reply": "2021-03-08T08:57:33.648417Z"
    },
    "papermill": {
     "duration": 2.93212,
     "end_time": "2021-03-08T08:57:33.648604",
     "exception": false,
     "start_time": "2021-03-08T08:57:30.716484",
     "status": "completed"
    },
    "tags": []
   },
   "outputs": [
    {
     "name": "stdout",
     "output_type": "stream",
     "text": [
      "Model: \"sequential\"\n",
      "_________________________________________________________________\n",
      "Layer (type)                 Output Shape              Param #   \n",
      "=================================================================\n",
      "conv2d (Conv2D)              (None, 48, 48, 64)        640       \n",
      "_________________________________________________________________\n",
      "batch_normalization (BatchNo (None, 48, 48, 64)        256       \n",
      "_________________________________________________________________\n",
      "activation (Activation)      (None, 48, 48, 64)        0         \n",
      "_________________________________________________________________\n",
      "max_pooling2d (MaxPooling2D) (None, 24, 24, 64)        0         \n",
      "_________________________________________________________________\n",
      "conv2d_1 (Conv2D)            (None, 24, 24, 128)       73856     \n",
      "_________________________________________________________________\n",
      "batch_normalization_1 (Batch (None, 24, 24, 128)       512       \n",
      "_________________________________________________________________\n",
      "activation_1 (Activation)    (None, 24, 24, 128)       0         \n",
      "_________________________________________________________________\n",
      "max_pooling2d_1 (MaxPooling2 (None, 12, 12, 128)       0         \n",
      "_________________________________________________________________\n",
      "conv2d_2 (Conv2D)            (None, 12, 12, 64)        73792     \n",
      "_________________________________________________________________\n",
      "batch_normalization_2 (Batch (None, 12, 12, 64)        256       \n",
      "_________________________________________________________________\n",
      "activation_2 (Activation)    (None, 12, 12, 64)        0         \n",
      "_________________________________________________________________\n",
      "max_pooling2d_2 (MaxPooling2 (None, 6, 6, 64)          0         \n",
      "_________________________________________________________________\n",
      "conv2d_3 (Conv2D)            (None, 6, 6, 256)         147712    \n",
      "_________________________________________________________________\n",
      "batch_normalization_3 (Batch (None, 6, 6, 256)         1024      \n",
      "_________________________________________________________________\n",
      "activation_3 (Activation)    (None, 6, 6, 256)         0         \n",
      "_________________________________________________________________\n",
      "max_pooling2d_3 (MaxPooling2 (None, 3, 3, 256)         0         \n",
      "_________________________________________________________________\n",
      "flatten (Flatten)            (None, 2304)              0         \n",
      "_________________________________________________________________\n",
      "dense (Dense)                (None, 7)                 16135     \n",
      "=================================================================\n",
      "Total params: 314,183\n",
      "Trainable params: 313,159\n",
      "Non-trainable params: 1,024\n",
      "_________________________________________________________________\n"
     ]
    }
   ],
   "source": [
    "from keras.optimizers import Adam,SGD,RMSprop\n",
    "# Initialising the CNN\n",
    "model = Sequential()\n",
    "\n",
    "# 1 - Convolution\n",
    "model.add(Conv2D(64,(3,3), padding='same', input_shape=(48, 48, 1)))\n",
    "model.add(BatchNormalization())\n",
    "model.add(Activation('relu'))\n",
    "model.add(MaxPooling2D(pool_size=(2, 2)))\n",
    "\n",
    "# 2nd Convolution layer\n",
    "model.add(Conv2D(128,(3,3), padding='same'))\n",
    "model.add(BatchNormalization())\n",
    "model.add(Activation('relu'))\n",
    "model.add(MaxPooling2D(pool_size=(2, 2)))\n",
    "\n",
    "# 3rd Convolution layer\n",
    "model.add(Conv2D(64,(3,3), padding='same'))\n",
    "model.add(BatchNormalization())\n",
    "model.add(Activation('relu'))\n",
    "model.add(MaxPooling2D(pool_size=(2, 2)))\n",
    "\n",
    "# 4th Convolution layer\n",
    "model.add(Conv2D(256,(3,3), padding='same'))\n",
    "model.add(BatchNormalization())\n",
    "model.add(Activation('relu'))\n",
    "model.add(MaxPooling2D(pool_size=(2, 2)))\n",
    "\n",
    "# Flattening\n",
    "model.add(Flatten())\n",
    "model.add(Dense(7, activation='softmax'))\n",
    "\n",
    "opt = Adam(lr=0.001)\n",
    "model.compile(optimizer=opt, loss='categorical_crossentropy', metrics=['accuracy'])\n",
    "model.summary()"
   ]
  },
  {
   "cell_type": "markdown",
   "metadata": {
    "papermill": {
     "duration": 0.00788,
     "end_time": "2021-03-08T08:57:33.666005",
     "exception": false,
     "start_time": "2021-03-08T08:57:33.658125",
     "status": "completed"
    },
    "tags": []
   },
   "source": [
    "## Training the model\n",
    "\n",
    "* This takes care of training our model, in tensorflow we have this fit method which does all the things for us like predicting on validation and training images.\n",
    "* The ModelCheckpoint saves our best weights so that we can use it in our test time."
   ]
  },
  {
   "cell_type": "code",
   "execution_count": 5,
   "metadata": {
    "execution": {
     "iopub.execute_input": "2021-03-08T08:57:33.687790Z",
     "iopub.status.busy": "2021-03-08T08:57:33.687156Z",
     "iopub.status.idle": "2021-03-08T09:06:06.588851Z",
     "shell.execute_reply": "2021-03-08T09:06:06.589372Z"
    },
    "papermill": {
     "duration": 512.915513,
     "end_time": "2021-03-08T09:06:06.589572",
     "exception": false,
     "start_time": "2021-03-08T08:57:33.674059",
     "status": "completed"
    },
    "tags": []
   },
   "outputs": [
    {
     "name": "stderr",
     "output_type": "stream",
     "text": [
      "/opt/conda/lib/python3.7/site-packages/tensorflow/python/keras/engine/training.py:1844: UserWarning: `Model.fit_generator` is deprecated and will be removed in a future version. Please use `Model.fit`, which supports generators.\n",
      "  warnings.warn('`Model.fit_generator` is deprecated and '\n"
     ]
    },
    {
     "name": "stdout",
     "output_type": "stream",
     "text": [
      "Epoch 1/15\n",
      "450/450 [==============================] - 179s 392ms/step - loss: 1.8491 - accuracy: 0.3394 - val_loss: 1.5417 - val_accuracy: 0.4503\n",
      "Epoch 2/15\n",
      "450/450 [==============================] - 24s 52ms/step - loss: 1.3106 - accuracy: 0.5052 - val_loss: 1.2848 - val_accuracy: 0.5128\n",
      "Epoch 3/15\n",
      "450/450 [==============================] - 24s 53ms/step - loss: 1.1480 - accuracy: 0.5688 - val_loss: 1.4119 - val_accuracy: 0.4726\n",
      "Epoch 4/15\n",
      "450/450 [==============================] - 24s 53ms/step - loss: 1.0120 - accuracy: 0.6241 - val_loss: 1.2135 - val_accuracy: 0.5558\n",
      "Epoch 5/15\n",
      "450/450 [==============================] - 24s 52ms/step - loss: 0.9008 - accuracy: 0.6682 - val_loss: 1.4674 - val_accuracy: 0.4641\n",
      "Epoch 6/15\n",
      "450/450 [==============================] - 24s 53ms/step - loss: 0.8131 - accuracy: 0.7013 - val_loss: 1.1932 - val_accuracy: 0.5713\n",
      "Epoch 7/15\n",
      "450/450 [==============================] - 24s 53ms/step - loss: 0.6785 - accuracy: 0.7546 - val_loss: 1.3148 - val_accuracy: 0.5398\n",
      "Epoch 8/15\n",
      "450/450 [==============================] - 25s 55ms/step - loss: 0.5664 - accuracy: 0.8014 - val_loss: 1.2578 - val_accuracy: 0.5646\n",
      "Epoch 9/15\n",
      "450/450 [==============================] - 24s 53ms/step - loss: 0.3613 - accuracy: 0.8983 - val_loss: 1.1692 - val_accuracy: 0.6101\n",
      "Epoch 10/15\n",
      "450/450 [==============================] - 24s 53ms/step - loss: 0.2670 - accuracy: 0.9402 - val_loss: 1.1921 - val_accuracy: 0.6092\n",
      "Epoch 11/15\n",
      "450/450 [==============================] - 24s 53ms/step - loss: 0.2329 - accuracy: 0.9546 - val_loss: 1.2005 - val_accuracy: 0.6124\n",
      "Epoch 12/15\n",
      "450/450 [==============================] - 24s 53ms/step - loss: 0.1948 - accuracy: 0.9693 - val_loss: 1.2065 - val_accuracy: 0.6119\n",
      "Epoch 13/15\n",
      "450/450 [==============================] - 23s 52ms/step - loss: 0.1940 - accuracy: 0.9688 - val_loss: 1.2114 - val_accuracy: 0.6138\n",
      "Epoch 14/15\n",
      "450/450 [==============================] - 24s 53ms/step - loss: 0.1936 - accuracy: 0.9693 - val_loss: 1.2131 - val_accuracy: 0.6126\n",
      "Epoch 15/15\n",
      "450/450 [==============================] - 24s 53ms/step - loss: 0.1870 - accuracy: 0.9701 - val_loss: 1.2145 - val_accuracy: 0.6107\n"
     ]
    }
   ],
   "source": [
    "epochs = 15\n",
    "\n",
    "from keras.callbacks import ModelCheckpoint,ReduceLROnPlateau\n",
    "\n",
    "\n",
    "checkpoint = ModelCheckpoint(\"model_weights.h5\", monitor='val_acc', verbose=1, save_best_only=True, mode='max')\n",
    "reduce_lr = ReduceLROnPlateau(monitor='val_loss', factor=0.1,\n",
    "                              patience=2, min_lr=0.00001, mode='auto')\n",
    "callbacks_list = [checkpoint,reduce_lr]\n",
    "\n",
    "history = model.fit_generator(generator=train_set,\n",
    "                                steps_per_epoch=train_set.n//train_set.batch_size,\n",
    "                                epochs=epochs,\n",
    "                                validation_data = test_set,\n",
    "                                validation_steps = test_set.n//test_set.batch_size,\n",
    "                                callbacks=callbacks_list\n",
    "                                )"
   ]
  },
  {
   "cell_type": "markdown",
   "metadata": {
    "papermill": {
     "duration": 1.028743,
     "end_time": "2021-03-08T09:06:08.671522",
     "exception": false,
     "start_time": "2021-03-08T09:06:07.642779",
     "status": "completed"
    },
    "tags": []
   },
   "source": [
    "# Saving the Model"
   ]
  },
  {
   "cell_type": "code",
   "execution_count": 6,
   "metadata": {
    "execution": {
     "iopub.execute_input": "2021-03-08T09:06:10.839028Z",
     "iopub.status.busy": "2021-03-08T09:06:10.838042Z",
     "iopub.status.idle": "2021-03-08T09:06:10.866335Z",
     "shell.execute_reply": "2021-03-08T09:06:10.865929Z"
    },
    "papermill": {
     "duration": 1.022725,
     "end_time": "2021-03-08T09:06:10.866452",
     "exception": false,
     "start_time": "2021-03-08T09:06:09.843727",
     "status": "completed"
    },
    "tags": []
   },
   "outputs": [],
   "source": [
    "model.save_weights(\"./model.h5\")"
   ]
  },
  {
   "cell_type": "markdown",
   "metadata": {
    "papermill": {
     "duration": 0.986489,
     "end_time": "2021-03-08T09:06:12.874700",
     "exception": false,
     "start_time": "2021-03-08T09:06:11.888211",
     "status": "completed"
    },
    "tags": []
   },
   "source": [
    "# Plotting Accuracy & Loss"
   ]
  },
  {
   "cell_type": "code",
   "execution_count": 7,
   "metadata": {
    "execution": {
     "iopub.execute_input": "2021-03-08T09:06:14.803082Z",
     "iopub.status.busy": "2021-03-08T09:06:14.802509Z",
     "iopub.status.idle": "2021-03-08T09:06:15.265434Z",
     "shell.execute_reply": "2021-03-08T09:06:15.265887Z"
    },
    "papermill": {
     "duration": 1.435965,
     "end_time": "2021-03-08T09:06:15.266034",
     "exception": false,
     "start_time": "2021-03-08T09:06:13.830069",
     "status": "completed"
    },
    "tags": []
   },
   "outputs": [
    {
     "data": {
      "image/png": "[encoded data removed]",
      "text/plain": [
       "<Figure size 1440x720 with 2 Axes>"
      ]
     },
     "metadata": {
      "needs_background": "light"
     },
     "output_type": "display_data"
    }
   ],
   "source": [
    "plt.figure(figsize=(20,10))\n",
    "plt.subplot(1, 2, 1)\n",
    "plt.suptitle('Optimizer : Adam', fontsize=10)\n",
    "plt.ylabel('Loss', fontsize=16)\n",
    "plt.plot(history.history['loss'], label='Training Loss')\n",
    "plt.plot(history.history['val_loss'], label='Validation Loss')\n",
    "plt.legend(loc='upper right')\n",
    "\n",
    "plt.subplot(1, 2, 2)\n",
    "plt.ylabel('Accuracy', fontsize=16)\n",
    "plt.plot(history.history['accuracy'], label='Training Accuracy')\n",
    "plt.plot(history.history['val_accuracy'], label='Validation Accuracy')\n",
    "plt.legend(loc='lower right')\n",
    "plt.show()"
   ]
  },
  {
   "cell_type": "code",
   "execution_count": null,
   "metadata": {
    "papermill": {
     "duration": 0.962039,
     "end_time": "2021-03-08T09:06:17.188256",
     "exception": false,
     "start_time": "2021-03-08T09:06:16.226217",
     "status": "completed"
    },
    "tags": []
   },
   "outputs": [],
   "source": []
  }
 ],
 "metadata": {
  "kernelspec": {
   "display_name": "Python 3",
   "language": "python",
   "name": "python3"
  },
  "language_info": {
   "codemirror_mode": {
    "name": "ipython",
    "version": 3
   },
   "file_extension": ".py",
   "mimetype": "text/x-python",
   "name": "python",
   "nbconvert_exporter": "python",
   "pygments_lexer": "ipython3",
   "version": "3.7.9"
  },
  "papermill": {
   "default_parameters": {},
   "duration": 562.871715,
   "end_time": "2021-03-08T09:06:21.177097",
   "environment_variables": {},
   "exception": null,
   "input_path": "__notebook__.ipynb",
   "output_path": "__notebook__.ipynb",
   "parameters": {},
   "start_time": "2021-03-08T08:56:58.305382",
   "version": "2.2.2"
  }
 },
 "nbformat": 4,
 "nbformat_minor": 4
}
